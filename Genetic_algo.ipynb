{
  "nbformat": 4,
  "nbformat_minor": 0,
  "metadata": {
    "colab": {
      "private_outputs": true,
      "provenance": []
    },
    "kernelspec": {
      "name": "python3",
      "display_name": "Python 3"
    },
    "language_info": {
      "name": "python"
    }
  },
  "cells": [
    {
      "cell_type": "code",
      "execution_count": null,
      "metadata": {
        "id": "cxzr9XVwIg_t"
      },
      "outputs": [],
      "source": [
        "import random\n",
        "POP_S= 100\n",
        "MUT_RATE=0.1\n",
        "TARGET= 'sample test'\n",
        "GENES= ' abcdefghijklmnopqrstuvwxyz'\n"
      ]
    },
    {
      "cell_type": "code",
      "source": [
        "def initialize_pop(TARGET):\n",
        "  population = list()\n",
        "  tar_len = len(TARGET)\n",
        "\n",
        "  for i in range(POP_S):\n",
        "      temp = list()\n",
        "      for j in range(tar_len):\n",
        "          temp.append(random.choice(GENES))\n",
        "      population.append(temp)\n",
        "\n",
        "  return population"
      ],
      "metadata": {
        "id": "5L-lWVJTI9PR"
      },
      "execution_count": null,
      "outputs": []
    },
    {
      "cell_type": "code",
      "source": [
        "def fitness_cal(TARGET, chromo_from_pop):\n",
        "  difference = 0\n",
        "  for tar_char, chromo_char in zip(TARGET, chromo_from_pop):\n",
        "      if tar_char != chromo_char:\n",
        "          difference+=1\n",
        "  return [chromo_from_pop, difference]"
      ],
      "metadata": {
        "id": "bzanSSLbJFB6"
      },
      "execution_count": null,
      "outputs": []
    },
    {
      "cell_type": "code",
      "source": [
        "def selection(population, TARGET):\n",
        "  sorted_chromo_pop = sorted(population, key= lambda x: x[1])\n",
        "  return sorted_chromo_pop[:int(0.5*POP_S)]"
      ],
      "metadata": {
        "id": "2dMd8vhtJMqz"
      },
      "execution_count": null,
      "outputs": []
    },
    {
      "cell_type": "code",
      "source": [
        "def crossover(selected_chromo, CHROMO_LEN, population):\n",
        "  offspring_cross = []\n",
        "  for i in range(int(POP_S)):\n",
        "    parent1 = random.choice(selected_chromo)\n",
        "    parent2 = random.choice(population[:int(POP_S*50)])\n",
        "\n",
        "    p1 = parent1[0]\n",
        "    p2 = parent2[0]\n",
        "\n",
        "    crossover_point = random.randint(1, CHROMO_LEN-1)\n",
        "    child =  p1[:crossover_point] + p2[crossover_point:]\n",
        "    offspring_cross.extend([child])\n",
        "  return offspring_cross"
      ],
      "metadata": {
        "id": "WkkFiL6OJT-1"
      },
      "execution_count": null,
      "outputs": []
    },
    {
      "cell_type": "code",
      "source": [
        "def mutate(offspring, MUT_RATE):\n",
        "  mutated_offspring = []\n",
        "\n",
        "  for arr in offspring:\n",
        "      for i in range(len(arr)):\n",
        "          if random.random() < MUT_RATE:\n",
        "              arr[i] = random.choice(GENES)\n",
        "      mutated_offspring.append(arr)\n",
        "  return mutated_offspring"
      ],
      "metadata": {
        "id": "H7J95zaWJj_r"
      },
      "execution_count": null,
      "outputs": []
    },
    {
      "cell_type": "code",
      "source": [
        "def replace(new_gen, population):\n",
        "  for _ in range(len(population)):\n",
        "      if population[_][1] > new_gen[_][1]:\n",
        "        population[_][0] = new_gen[_][0]\n",
        "        population[_][1] = new_gen[_][1]\n",
        "  return population"
      ],
      "metadata": {
        "id": "jvbXptBCJqdt"
      },
      "execution_count": null,
      "outputs": []
    },
    {
      "cell_type": "code",
      "source": [
        "def main(POP_S, MUT_RATE, TARGET, GENES):\n",
        "    # 1) initialize population\n",
        "    initial_population = initialize_pop(TARGET)\n",
        "    found = False\n",
        "    population = []\n",
        "    generation = 1\n",
        "\n",
        "    # 2) Calculating the fitness for the current population\n",
        "    for _ in range(len(initial_population)):\n",
        "        population.append(fitness_cal(TARGET, initial_population[_]))\n",
        "\n",
        "    # now population has 2 things, [chromosome, fitness]\n",
        "    # 3) now we loop until TARGET is found\n",
        "    while not found:\n",
        "\n",
        "      # 3.1) select best people from current population\n",
        "      selected = selection(population, TARGET)\n",
        "\n",
        "      # 3.2) mate parents to make new generation\n",
        "      population = sorted(population, key= lambda x:x[1])\n",
        "      crossovered = crossover(selected, len(TARGET), population)\n",
        "\n",
        "      # 3.3) mutating the childeren to diversfy the new generation\n",
        "      mutated = mutate(crossovered, MUT_RATE)\n",
        "\n",
        "      new_gen = []\n",
        "      for _ in mutated:\n",
        "          new_gen.append(fitness_cal(TARGET, _))\n",
        "\n",
        "      # 3.4) replacement of bad population with new generation\n",
        "      # we sort here first to compare the least fit population with the most fit new_gen\n",
        "\n",
        "      population = replace(new_gen, population)\n",
        "\n",
        "\n",
        "      if (population[0][1] == 0):\n",
        "        print('Target found')\n",
        "        print('String: ' + str(population[0][0]) + ' Generation: ' + str(generation) + ' Fitness: ' + str(population[0][1]))\n",
        "        break\n",
        "      print('String: ' + str(population[0][0]) + ' Generation: ' + str(generation) + ' Fitness: ' + str(population[0][1]))\n",
        "      generation+=1\n",
        "\n",
        "main(POP_S, MUT_RATE, TARGET, GENES)"
      ],
      "metadata": {
        "id": "-iG19TF1Jtml"
      },
      "execution_count": null,
      "outputs": []
    },
    {
      "cell_type": "code",
      "source": [],
      "metadata": {
        "id": "sz8wo3yIJ6Mx"
      },
      "execution_count": null,
      "outputs": []
    }
  ]
}